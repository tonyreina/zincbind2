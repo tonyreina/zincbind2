{
 "cells": [
  {
   "cell_type": "markdown",
   "id": "93db5212-8b95-4de9-8286-901306a73b08",
   "metadata": {},
   "source": [
    "- for a given model, for each ligand that is Zn, check for atoms within 5 and 10 angstrom. turn this into a function, possibly a python script.\n",
    "- make a 2d and 3d vidsual from the atoms center of mass, using then go into 3d the center of origin will be on the zinc ligand, look for offset from zinc atom\n",
    "https://proteopedia.org/wiki/index.php/Hetero_atoms\n",
    "HET\n",
    "Non-standard residues"
   ]
  },
  {
   "cell_type": "code",
   "execution_count": 2,
   "id": "bccfb0b3-0bb5-4965-9c96-990a0fb88723",
   "metadata": {},
   "outputs": [],
   "source": [
    "import atomium\n",
    "import numpy as np\n",
    "import matplotlib as plt\n",
    "%matplotlib inline "
   ]
  },
  {
   "cell_type": "code",
   "execution_count": null,
   "id": "316d79e6-baf8-40eb-b612-601d970bf6fe",
   "metadata": {},
   "outputs": [],
   "source": []
  },
  {
   "cell_type": "code",
   "execution_count": null,
   "id": "91963f7d-ab6b-4735-be03-1ae7484905e8",
   "metadata": {},
   "outputs": [],
   "source": []
  },
  {
   "cell_type": "code",
   "execution_count": null,
   "id": "ce74f02f-d1e1-4fd1-9e35-bf30608a2c72",
   "metadata": {},
   "outputs": [],
   "source": []
  },
  {
   "cell_type": "code",
   "execution_count": null,
   "id": "d4601971-338a-4c04-a71b-cef074b525b6",
   "metadata": {},
   "outputs": [],
   "source": []
  },
  {
   "cell_type": "code",
   "execution_count": null,
   "id": "fea82eef-bc62-40cd-9553-66db49b0992b",
   "metadata": {},
   "outputs": [],
   "source": []
  },
  {
   "cell_type": "code",
   "execution_count": null,
   "id": "515e09e1-8cfa-41dd-97ad-da6796f70214",
   "metadata": {},
   "outputs": [],
   "source": []
  },
  {
   "cell_type": "markdown",
   "id": "60f117aa-a8c5-46cb-9a49-c42fc5928e64",
   "metadata": {},
   "source": [
    "### Globals"
   ]
  },
  {
   "cell_type": "code",
   "execution_count": 51,
   "id": "382de2ea-d11e-4314-905c-d36a533466ff",
   "metadata": {},
   "outputs": [
    {
     "name": "stdout",
     "output_type": "stream",
     "text": [
      "CRYSTALLOGRAPHIC STUDIES OF TWO ALCOHOL DEHYDROGENASE-BOUND ANALOGS OF THIAZOLE-4-CARBOXAMIDE ADENINE DINUCLEOTIDE (TAD), THE ACTIVE ANABOLITE OF THE ANTITUMOR AGENT TIAZOFURIN\n"
     ]
    }
   ],
   "source": [
    "# The basic structures within a model are chains, residues, ligands, and atoms\n",
    "# Biological molecules are hierarchical, building from atoms to residues to chains to assemblies\n",
    "\n",
    "MODEL_NAME = \"1ADG\"\n",
    "FILE = atomium.fetch(MODEL_NAME)\n",
    "MODEL = atomium.fetch(MODEL_NAME).model\n",
    "MODEL_CENTER_MASS = MODEL.center_of_mass\n",
    "print(FILE.title)"
   ]
  },
  {
   "cell_type": "code",
   "execution_count": 52,
   "id": "8e4af5fd-6431-4427-a0dd-f38ec37a9640",
   "metadata": {
    "tags": []
   },
   "outputs": [],
   "source": [
    "def nearby_ligand_atoms(ligand, model, radius=10.0, sort_atoms=True):\n",
    "    \"\"\"\n",
    "    Takes a ligand obj and a model's center of mass and returns a dictionary of atom data\n",
    "    where the atoms fall within some set distance of the ligand's center\n",
    "    \n",
    "    - radius in angstroms\n",
    "    - sort_atoms sorts the dict data structure by distance from ligand center\n",
    "    \"\"\"\n",
    "    ligand_center = tuple(ligand.center_of_mass)\n",
    "    atoms_in_radius = list(model.atoms_in_sphere(ligand_center, radius))\n",
    "    \n",
    "    atoms = []\n",
    "    for idx, atom in enumerate(atoms_in_radius):\n",
    "        atoms.append(\n",
    "            {\n",
    "                \"atom\": atom,\n",
    "                \"location\": atom.location,\n",
    "                \"distance\": atom.distance_to(tuple(ligand.center_of_mass)),\n",
    "                \"is_metal\": atom.is_metal,\n",
    "                \"atom_id\": atom.id,\n",
    "                \"near_hets\": list(atom.nearby_hets(cutoff=3))\n",
    "            }\n",
    "        )\n",
    "\n",
    "    if sort_atoms:\n",
    "        return sorted(atoms, key=lambda d: d[\"distance\"]) \n",
    "    else:\n",
    "        return atoms"
   ]
  },
  {
   "cell_type": "code",
   "execution_count": 46,
   "id": "819b5194-db5b-49a1-9fe5-571f8c449b66",
   "metadata": {},
   "outputs": [],
   "source": [
    "def zinc_ligands(model, optimize=True):\n",
    "    \"\"\"\n",
    "    For a given model name, query model via atomium API\n",
    "    and return an array of any ZN ligand objects found in the model.\n",
    "    \n",
    "    model_name is a string, e.g. \"1ADG\"\n",
    "    \"\"\"\n",
    "    # pdb = atomium.fetch(model_name) #should check for nil here i.e. does the model exist\n",
    "    ligands = model.ligands()\n",
    "    \n",
    "    if optimize:\n",
    "        model = model.optimise_distances()\n",
    "    \n",
    "    zn_ligands = []\n",
    "    for ligand in ligands:\n",
    "        if ligand.name == \"ZN\":\n",
    "            zn_ligands.append(ligand)\n",
    "    return zn_ligands"
   ]
  },
  {
   "cell_type": "code",
   "execution_count": 48,
   "id": "89628fda-ce7d-4264-a064-43355f8574b0",
   "metadata": {
    "collapsed": true,
    "jupyter": {
     "outputs_hidden": true
    },
    "tags": []
   },
   "outputs": [
    {
     "name": "stdout",
     "output_type": "stream",
     "text": [
      "36\n",
      "[{'atom': <Atom 3394 (ZN)>, 'location': (-11.953, 22.816, 27.173), 'distance': 0.0, 'is_metal': True, 'atom_id': 3394, 'near_hets': [<Residue CYS (A.111)>, <Residue CYS (A.100)>, <Residue CYS (A.97)>, <Residue CYS (A.103)>]}, {'atom': <Atom 866 (SG)>, 'location': (-13.406, 23.576, 25.586), 'distance': 2.281968010292871, 'is_metal': False, 'atom_id': 866, 'near_hets': [<Residue CYS (A.100)>, <Residue LYS (A.99)>, <Ligand ZN (A.377)>]}, {'atom': <Atom 891 (SG)>, 'location': (-12.991, 22.092, 29.112), 'distance': 2.315456974335736, 'is_metal': False, 'atom_id': 891, 'near_hets': [<Ligand ZN (A.377)>]}, {'atom': <Atom 923 (SG)>, 'location': (-10.44, 24.658, 27.88), 'distance': 2.486359185636703, 'is_metal': False, 'atom_id': 923, 'near_hets': [<Ligand ZN (A.377)>, <Residue GLY (A.98)>]}, {'atom': <Atom 1001 (SG)>, 'location': (-10.595, 20.976, 26.011), 'distance': 2.565152627038008, 'is_metal': False, 'atom_id': 1001, 'near_hets': [<Residue CYS (A.97)>, <Residue LYS (A.113)>, <Ligand ZN (A.377)>]}, {'atom': <Atom 865 (CB)>, 'location': (-12.678, 23.6, 23.919), 'distance': 3.4247331282889752, 'is_metal': False, 'atom_id': 865, 'near_hets': []}, {'atom': <Atom 867 (H)>, 'location': (-10.109, 23.262, 24.303), 'distance': 3.4403709102362763, 'is_metal': False, 'atom_id': 867, 'near_hets': [<Residue CYS (A.111)>, <Residue GLN (A.96)>]}, {'atom': <Atom 892 (H)>, 'location': (-15.078, 24.261, 27.769), 'distance': 3.49411877302418, 'is_metal': False, 'atom_id': 892, 'near_hets': [<Residue LYS (A.99)>, <Residue CYS (A.97)>]}, {'atom': <Atom 861 (N)>, 'location': (-10.305, 24.213, 24.234), 'distance': 3.64763402769521, 'is_metal': False, 'atom_id': 861, 'near_hets': [<Residue GLN (A.96)>, <Residue GLY (A.98)>]}, {'atom': <Atom 1000 (CB)>, 'location': (-9.033, 20.635, 26.89), 'distance': 3.6555779296849886, 'is_metal': False, 'atom_id': 1000, 'near_hets': []}, {'atom': <Atom 890 (CB)>, 'location': (-14.747, 22.336, 29.511), 'distance': 3.674653725182824, 'is_metal': False, 'atom_id': 890, 'near_hets': [<Residue ARG (A.101)>]}, {'atom': <Atom 922 (CB)>, 'location': (-10.946, 25.758, 29.231), 'distance': 3.7289109670250933, 'is_metal': False, 'atom_id': 922, 'near_hets': []}, {'atom': <Atom 862 (CA)>, 'location': (-11.606, 24.698, 23.765), 'distance': 3.908554336324364, 'is_metal': False, 'atom_id': 862, 'near_hets': [<Residue GLN (A.96)>, <Residue GLY (A.98)>]}, {'atom': <Atom 886 (N)>, 'location': (-15.178, 24.595, 28.668), 'distance': 3.9749831446183532, 'is_metal': False, 'atom_id': 886, 'near_hets': [<Residue LYS (A.99)>]}, {'atom': <Atom 997 (CA)>, 'location': (-9.297, 19.972, 28.256), 'distance': 4.039252529862423, 'is_metal': False, 'atom_id': 997, 'near_hets': [<Residue PHE (A.110)>, <Residue LEU (A.112)>]}, {'atom': <Atom 924 (H)>, 'location': (-11.722, 24.107, 31.098), 'distance': 4.138316928414256, 'is_metal': False, 'atom_id': 924, 'near_hets': [<Residue ARG (A.101)>, <Residue CYS (A.100)>, <Residue LYS (A.104)>, <Residue VAL (A.102)>]}, {'atom': <Atom 868 (N)>, 'location': (-11.463, 26.558, 25.4), 'distance': 4.169675407031105, 'is_metal': False, 'atom_id': 868, 'near_hets': [<Residue CYS (A.97)>, <Residue LYS (A.99)>, <Residue GLN (A.96)>]}, {'atom': <Atom 863 (C)>, 'location': (-12.139, 25.964, 24.413), 'distance': 4.190715929289408, 'is_metal': False, 'atom_id': 863, 'near_hets': [<Residue LYS (A.99)>, <Residue GLN (A.96)>, <Residue GLY (A.98)>]}, {'atom': <Atom 1003 (N)>, 'location': (-11.444, 18.875, 28.519), 'distance': 4.195506882368326, 'is_metal': False, 'atom_id': 1003, 'near_hets': [<Residue LYS (A.113)>, <Residue CYS (A.111)>]}, {'atom': <Atom 872 (H)>, 'location': (-10.505, 26.406, 25.477), 'distance': 4.22625366015813, 'is_metal': False, 'atom_id': 872, 'near_hets': [<Residue CYS (A.97)>, <Residue GLN (A.96)>, <Residue CYS (A.103)>]}, {'atom': <Atom 1011 (H)>, 'location': (-11.491, 19.256, 29.417), 'distance': 4.233506820592121, 'is_metal': False, 'atom_id': 1011, 'near_hets': [<Residue PHE (A.110)>, <Residue CYS (A.111)>]}, {'atom': <Atom 1021 (H)>, 'location': (-11.565, 18.806, 25.687), 'distance': 4.29404704212704, 'is_metal': False, 'atom_id': 1021, 'near_hets': [<Residue LEU (A.112)>, <Residue CYS (A.111)>, <Residue ASN (A.114)>]}, {'atom': <Atom 887 (CA)>, 'location': (-15.294, 23.746, 29.813), 'distance': 4.358529683276232, 'is_metal': False, 'atom_id': 887, 'near_hets': [<Residue ARG (A.101)>, <Residue LYS (A.99)>]}, {'atom': <Atom 882 (H)>, 'location': (-14.206, 26.363, 25.821), 'distance': 4.414195509942893, 'is_metal': False, 'atom_id': 882, 'near_hets': [<Residue CYS (A.97)>, <Residue CYS (A.100)>, <Residue GLY (A.98)>]}, {'atom': <Atom 998 (C)>, 'location': (-10.235, 18.822, 27.948), 'distance': 4.41635426568114, 'is_metal': False, 'atom_id': 998, 'near_hets': [<Residue LEU (A.112)>, <Residue LYS (A.113)>, <Residue ASN (A.114)>]}, {'atom': <Atom 918 (N)>, 'location': (-10.805, 24.368, 31.263), 'distance': 4.522688138706894, 'is_metal': False, 'atom_id': 918, 'near_hets': [<Residue VAL (A.102)>, <Residue CYS (A.100)>, <Residue LYS (A.104)>]}, {'atom': <Atom 873 (N)>, 'location': (-14.175, 26.73, 26.724), 'distance': 4.5230831299015515, 'is_metal': False, 'atom_id': 873, 'near_hets': [<Residue CYS (A.100)>, <Residue CYS (A.97)>, <Residue GLY (A.98)>]}, {'atom': <Atom 919 (CA)>, 'location': (-10.294, 25.548, 30.571), 'distance': 4.665030439343351, 'is_metal': False, 'atom_id': 919, 'near_hets': [<Residue VAL (A.102)>, <Residue LYS (A.104)>]}, {'atom': <Atom 851 (C)>, 'location': (-9.219, 24.979, 24.044), 'distance': 4.684438707038441, 'is_metal': False, 'atom_id': 851, 'near_hets': [<Residue CYS (A.97)>, <Residue GLY (A.98)>]}, {'atom': <Atom 889 (O)>, 'location': (-13.628, 25.076, 30.962), 'distance': 4.719083173668379, 'is_metal': False, 'atom_id': 889, 'near_hets': [<Residue ARG (A.101)>, <Residue LYS (A.104)>, <Residue CYS (A.103)>]}, {'atom': <Atom 1012 (N)>, 'location': (-12.396, 18.313, 25.592), 'distance': 4.792996870435031, 'is_metal': False, 'atom_id': 1012, 'near_hets': [<Residue LEU (A.112)>, <Residue CYS (A.111)>, <Residue ASN (A.114)>]}, {'atom': <Atom 864 (O)>, 'location': (-13.249, 26.349, 24.093), 'distance': 4.862931728905928, 'is_metal': False, 'atom_id': 864, 'near_hets': [<Residue LYS (A.99)>, <Residue GLY (A.98)>]}, {'atom': <Atom 888 (C)>, 'location': (-14.584, 24.298, 31.029), 'distance': 4.897675060679303, 'is_metal': False, 'atom_id': 888, 'near_hets': [<Residue ARG (A.101)>, <Residue LYS (A.99)>, <Residue CYS (A.103)>]}, {'atom': <Atom 870 (C)>, 'location': (-13.169, 27.614, 26.965), 'distance': 4.954061364173845, 'is_metal': False, 'atom_id': 870, 'near_hets': [<Residue LYS (A.99)>]}, {'atom': <Atom 1004 (CA)>, 'location': (-12.526, 17.945, 28.123), 'distance': 4.995745189658895, 'is_metal': False, 'atom_id': 1004, 'near_hets': [<Residue LYS (A.113)>, <Residue CYS (A.111)>, <Residue ASN (A.114)>]}, {'atom': <Atom 3509 (O)>, 'location': (-7.525, 24.358, 28.901), 'distance': 4.9970923545598, 'is_metal': False, 'atom_id': 3509, 'near_hets': []}]\n"
     ]
    }
   ],
   "source": [
    "# test\n",
    "\n",
    "ligands = zinc_ligands(MODEL)\n",
    "print(len(nearby_ligand_atoms(ligands[1], MODEL, radius=5.0)))\n",
    "print(nearby_ligand_atoms(ligands[1], MODEL, radius=5.0))\n",
    "\n",
    "# [{'atom': <Atom 3393 (ZN)>,\n",
    "#   'distance': 0.0,\n",
    "#   'is_metal': True,\n",
    "#   'atom_id': 3393,\n",
    "#   'near_hets': [<Water HOH (A.388)>,<Residue CYS (A.174)>,<Residue HIS (A.67)>,<Residue CYS (A.46)>]\n",
    "#  },\n",
    "#  {'atom': <Atom 3473 (O)>,\n",
    "#   'distance': 1.6169613477136673,\n",
    "#   'is_metal': False,\n",
    "#   'atom_id': 3473,\n",
    "#   'near_hets': [<Ligand ZN (A.376)>,<Residue CYS (A.174)>,<Residue SER (A.48)>,<Water HOH (A.391)>,<Residue HIS (A.67)>]\n",
    "#  },\n",
    "#    ...\n",
    "\n",
    "\n",
    "# hets:\n",
    "# sorted_dist_to_lig_a376[1][\"atom\"].nearby_hets(cutoff=3)\n",
    "# ...\n",
    "# {<Ligand ZN (A.376)>,\n",
    "#  <Residue CYS (A.174)>,\n",
    "#  <Residue HIS (A.67)>,\n",
    "#  <Residue SER (A.48)>,\n",
    "#  <Water HOH (A.391)>}"
   ]
  },
  {
   "cell_type": "code",
   "execution_count": null,
   "id": "f3017fff-34e5-492a-a012-690fa015ee99",
   "metadata": {},
   "outputs": [],
   "source": []
  },
  {
   "cell_type": "code",
   "execution_count": null,
   "id": "c2fad7c5-cb74-407c-8ca8-aaef4c071107",
   "metadata": {},
   "outputs": [],
   "source": []
  },
  {
   "cell_type": "markdown",
   "id": "44cd16d9-ac83-42d7-a37e-1cc002ae7fc5",
   "metadata": {},
   "source": [
    "#### notes\n",
    "\n",
    "Proteins are the major ligands for zinc(II) ions (“zinc”). Zinc can be readily available from proteins or not available at all unless the protein is degraded. In a way, the coordination chemistry of zinc in proteins bridges the one in natural waters, where zinc is in an available form, and the one in minerals, where zinc is unavailable without chemical processing. Zinc is essential for virtually all cellular functions through its presence in an estimated 3000 human proteins, the zinc sites of which have been predicted by bioinformatics approaches from the signature motifs in their protein sequences [1]. If one considers additional functions of zinc in regulation, the number of zinc proteins in the human zinc proteome will be even larger [2]. \n",
    "\n",
    "The coordination chemistry of zinc in proteins and peptides involves N, O, and S donors of the side chains of histidine, glutamate/aspartate, and/or cysteine with any permutation of these ligands and with the number of protein ligands ranging from three to six. The ligands may not stem from a single protein but from up to four proteins. One property regularly cited for zinc is its flexibility in coordination due to the lack of ligand field stabilization. This allows for dynamic coordination environments of zinc ions, which is critical for example in its catalytic prowess in enzymes when adopting different coordination numbers in interactions with substrates. \n",
    "\n",
    "A critical chemical issue that is important for the functions of proteins is their affinity towards zinc. Using a limited number of ligand donors and geometries, proteins must control and adjust affinities for zinc according to physiological functions. These functions are determined by the structural properties of zinc binding sites such as the presence of a second coordination sphere that engages in hydrogen bonding to ligands, including water molecules when present, geometric strains (entasis), pockets with different dielectric constants (hydrophobic cores), all of which modulate the properties of the bound zinc. For example, in zinc fingers with a ββα fold and in zinc-containing LIM domains, hydrogen bonds and hydrophobic and electrostatic interactions around the bound zinc affect binding and exchange kinetics [3], [4]. Such stabilization through interactions in the second coordination sphere, though not always directly obvious from inspection of the protein structure, occurs in both intra- or intermolecular zinc binding sites and is responsible for stabilizing some sites to affinities for zinc as high as femtomolar in zinc-binding domains such as the zinc hook [5]. A lack or a limited number of stabilizing secondary interactions also can have the opposite effect, namely decreasing affinities of proteins for zinc as a way of controlling their function [6]. \n",
    "\n",
    "Zinc coordination in proteins has been reviewed and catalogued extensively and hence is not the subject of this article. An important subject that has not been reviewed in the literature, however, is the biological coordination chemistry of zinc ions when not bound to proteins – the focus of this article. This subject matter is important with regard to the way zinc is controlled in biology and the functions of zinc as a signalling ion as discussed in many articles in this special issue."
   ]
  },
  {
   "cell_type": "markdown",
   "id": "2227d7d7-545f-4088-bc8a-1cda3debc248",
   "metadata": {
    "tags": []
   },
   "source": [
    "a residue refers to a single unit that makes up a polymer (biopolymer: Starch, proteins and peptides, DNA, and RNA are all examples of biopolymers, in which the monomer units, respectively, are sugars, amino acids, and nucleotides.), such as an amino acid in a polypeptide or protein\n",
    "\n",
    "(1) A molecule, ion or atom bonded to the central metal atom of a coordination compound (A substance consisting of atoms or ions of two or more elements that are chemically bonded together, e.g. carbon dioxide, a substance consisting of carbon and two oxygen atoms).\n",
    "(2) Any substance (e.g. hormone, drug, functional group, etc.) that binds specifically and reversibly to another chemical entity to form a larger complex.\n",
    "\n",
    "\n"
   ]
  },
  {
   "cell_type": "code",
   "execution_count": null,
   "id": "0ed20bc9-915c-4cc7-b7e3-28bb403cfecd",
   "metadata": {},
   "outputs": [],
   "source": []
  }
 ],
 "metadata": {
  "kernelspec": {
   "display_name": "Python 3 (ipykernel)",
   "language": "python",
   "name": "python3"
  },
  "language_info": {
   "codemirror_mode": {
    "name": "ipython",
    "version": 3
   },
   "file_extension": ".py",
   "mimetype": "text/x-python",
   "name": "python",
   "nbconvert_exporter": "python",
   "pygments_lexer": "ipython3",
   "version": "3.8.12"
  }
 },
 "nbformat": 4,
 "nbformat_minor": 5
}
