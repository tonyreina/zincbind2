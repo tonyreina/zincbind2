{
 "cells": [
  {
   "cell_type": "markdown",
   "id": "08b96e4d",
   "metadata": {},
   "source": [
    "https://github.com/samirelanduk/ZincBindPredict"
   ]
  },
  {
   "cell_type": "code",
   "execution_count": 25,
   "id": "82540a27",
   "metadata": {},
   "outputs": [
    {
     "name": "stdout",
     "output_type": "stream",
     "text": [
      "The tensorboard extension is already loaded. To reload it, use:\n",
      "  %reload_ext tensorboard\n"
     ]
    }
   ],
   "source": [
    "import tensorflow as tf\n",
    "import pandas as pd\n",
    "\n",
    "import datetime\n",
    "import os\n",
    "\n",
    "import numpy as np\n",
    "\n",
    "import glob\n",
    "\n",
    "# Load the TensorBoard notebook extension\n",
    "%load_ext tensorboard"
   ]
  },
  {
   "cell_type": "code",
   "execution_count": 26,
   "id": "5601b850",
   "metadata": {},
   "outputs": [],
   "source": [
    "import utilities\n",
    "\n",
    "#utilities.get_all_pdb_codes()"
   ]
  },
  {
   "cell_type": "code",
   "execution_count": 27,
   "id": "1ba1f889",
   "metadata": {},
   "outputs": [],
   "source": [
    "from sklearn.datasets import make_classification\n",
    "from sklearn.tree import DecisionTreeClassifier\n",
    "from matplotlib import pyplot\n",
    "\n",
    "%matplotlib inline"
   ]
  },
  {
   "cell_type": "code",
   "execution_count": 28,
   "id": "3bd0b35c",
   "metadata": {},
   "outputs": [
    {
     "name": "stdout",
     "output_type": "stream",
     "text": [
      "Appending csv/sequence/H3.csv\n",
      "Appending csv/sequence/C2H2.csv\n",
      "Appending csv/sequence/C3H1.csv\n",
      "Appending csv/sequence/E1H1.csv\n",
      "Appending csv/sequence/C2H1.csv\n",
      "Appending csv/sequence/D1H1.csv\n",
      "Appending csv/sequence/E1H2.csv\n",
      "Appending csv/sequence/D1H2.csv\n",
      "Appending csv/sequence/C3.csv\n"
     ]
    }
   ],
   "source": [
    "files = glob.glob(\"csv/sequence/*.csv\")\n",
    "\n",
    "df = pd.read_csv(files[0])\n",
    "\n",
    "for file in files[1:]:\n",
    "\n",
    "    print(f\"Appending {file}\")\n",
    "    df.append(pd.read_csv(file))"
   ]
  },
  {
   "cell_type": "code",
   "execution_count": 29,
   "id": "f2b2c42c",
   "metadata": {},
   "outputs": [],
   "source": [
    "y = df[\"positive\"]\n",
    "X = df.drop([\"positive\"], axis=1)"
   ]
  },
  {
   "cell_type": "code",
   "execution_count": 30,
   "id": "70249c87",
   "metadata": {},
   "outputs": [
    {
     "name": "stdout",
     "output_type": "stream",
     "text": [
      "Feature: 0, gap1 Score: 0.12211\n",
      "Feature: 1, hydrophobicity1 Score: 0.01117\n",
      "Feature: 2, gap2 Score: 0.05132\n",
      "Feature: 3, hydrophobicity2 Score: 0.00380\n",
      "Feature: 4, gap3 Score: 0.70104\n",
      "Feature: 5, hydrophobicity3 Score: 0.00334\n",
      "Feature: 6, hydrophobicity_window_1 Score: 0.00246\n",
      "Feature: 7, hydrophobicity_window_3 Score: 0.00933\n",
      "Feature: 8, hydrophobicity_window_5 Score: 0.01122\n",
      "Feature: 9, charged_window_1 Score: 0.00074\n",
      "Feature: 10, charged_window_3 Score: 0.00021\n",
      "Feature: 11, charged_window_5 Score: 0.00411\n",
      "Feature: 12, A_window_1 Score: 0.00083\n",
      "Feature: 13, A_window_3 Score: 0.00109\n",
      "Feature: 14, A_window_5 Score: 0.00155\n",
      "Feature: 15, R_window_1 Score: 0.00145\n",
      "Feature: 16, R_window_3 Score: 0.00313\n",
      "Feature: 17, R_window_5 Score: 0.00407\n",
      "Feature: 18, N_window_1 Score: 0.00000\n",
      "Feature: 19, N_window_3 Score: 0.00075\n",
      "Feature: 20, N_window_5 Score: 0.00070\n",
      "Feature: 21, D_window_1 Score: 0.00000\n",
      "Feature: 22, D_window_3 Score: 0.00062\n",
      "Feature: 23, D_window_5 Score: 0.00119\n",
      "Feature: 24, C_window_1 Score: 0.00718\n",
      "Feature: 25, C_window_3 Score: 0.00873\n",
      "Feature: 26, C_window_5 Score: 0.00400\n",
      "Feature: 27, E_window_1 Score: 0.00032\n",
      "Feature: 28, E_window_3 Score: 0.00041\n",
      "Feature: 29, E_window_5 Score: 0.00352\n",
      "Feature: 30, Q_window_1 Score: 0.00041\n",
      "Feature: 31, Q_window_3 Score: 0.00095\n",
      "Feature: 32, Q_window_5 Score: 0.00282\n",
      "Feature: 33, G_window_1 Score: 0.00258\n",
      "Feature: 34, G_window_3 Score: 0.00177\n",
      "Feature: 35, G_window_5 Score: 0.00106\n",
      "Feature: 36, H_window_1 Score: 0.00003\n",
      "Feature: 37, H_window_3 Score: 0.00089\n",
      "Feature: 38, H_window_5 Score: 0.00056\n",
      "Feature: 39, I_window_1 Score: 0.00022\n",
      "Feature: 40, I_window_3 Score: 0.00271\n",
      "Feature: 41, I_window_5 Score: 0.00191\n",
      "Feature: 42, L_window_1 Score: 0.00071\n",
      "Feature: 43, L_window_3 Score: 0.00337\n",
      "Feature: 44, L_window_5 Score: 0.00095\n",
      "Feature: 45, K_window_1 Score: 0.00021\n",
      "Feature: 46, K_window_3 Score: 0.00049\n",
      "Feature: 47, K_window_5 Score: 0.00076\n",
      "Feature: 48, M_window_1 Score: 0.00000\n",
      "Feature: 49, M_window_3 Score: 0.00158\n",
      "Feature: 50, M_window_5 Score: 0.00120\n",
      "Feature: 51, F_window_1 Score: 0.00271\n",
      "Feature: 52, F_window_3 Score: 0.00016\n",
      "Feature: 53, F_window_5 Score: 0.00006\n",
      "Feature: 54, P_window_1 Score: 0.00199\n",
      "Feature: 55, P_window_3 Score: 0.00047\n",
      "Feature: 56, P_window_5 Score: 0.00142\n",
      "Feature: 57, S_window_1 Score: 0.00093\n",
      "Feature: 58, S_window_3 Score: 0.00054\n",
      "Feature: 59, S_window_5 Score: 0.00061\n",
      "Feature: 60, T_window_1 Score: 0.00077\n",
      "Feature: 61, T_window_3 Score: 0.00116\n",
      "Feature: 62, T_window_5 Score: 0.00056\n",
      "Feature: 63, W_window_1 Score: 0.00021\n",
      "Feature: 64, W_window_3 Score: 0.00060\n",
      "Feature: 65, W_window_5 Score: 0.00038\n",
      "Feature: 66, Y_window_1 Score: 0.00000\n",
      "Feature: 67, Y_window_3 Score: 0.00000\n",
      "Feature: 68, Y_window_5 Score: 0.00058\n",
      "Feature: 69, V_window_1 Score: 0.00000\n",
      "Feature: 70, V_window_3 Score: 0.00010\n",
      "Feature: 71, V_window_5 Score: 0.00120\n",
      "Index(['gap3', 'gap1', 'gap2', 'hydrophobicity_window_5', 'hydrophobicity1',\n",
      "       'hydrophobicity_window_3', 'C_window_3', 'C_window_1',\n",
      "       'charged_window_5', 'R_window_5', 'C_window_5', 'hydrophobicity2',\n",
      "       'E_window_5', 'L_window_3', 'hydrophobicity3', 'R_window_3',\n",
      "       'Q_window_5', 'F_window_1', 'I_window_3', 'G_window_1',\n",
      "       'hydrophobicity_window_1', 'P_window_1', 'I_window_5', 'G_window_3',\n",
      "       'M_window_3', 'A_window_5', 'R_window_1', 'P_window_5', 'V_window_5',\n",
      "       'M_window_5', 'D_window_5', 'T_window_3', 'A_window_3', 'G_window_5',\n",
      "       'Q_window_3', 'L_window_5', 'S_window_1', 'H_window_3', 'A_window_1',\n",
      "       'T_window_1', 'K_window_5', 'N_window_3', 'charged_window_1',\n",
      "       'L_window_1', 'N_window_5', 'D_window_3', 'S_window_5', 'W_window_3',\n",
      "       'Y_window_5', 'H_window_5', 'T_window_5', 'S_window_3', 'K_window_3',\n",
      "       'P_window_3', 'E_window_3', 'Q_window_1', 'W_window_5', 'E_window_1',\n",
      "       'I_window_1', 'W_window_1', 'K_window_1', 'charged_window_3',\n",
      "       'F_window_3', 'V_window_3', 'F_window_5', 'H_window_1', 'V_window_1',\n",
      "       'M_window_1', 'N_window_1', 'Y_window_1', 'Y_window_3', 'D_window_1'],\n",
      "      dtype='object')\n"
     ]
    },
    {
     "data": {
      "image/png": "[encoded data removed]",
      "text/plain": [
       "<Figure size 432x288 with 1 Axes>"
      ]
     },
     "metadata": {
      "needs_background": "light"
     },
     "output_type": "display_data"
    }
   ],
   "source": [
    "model = DecisionTreeClassifier()\n",
    "# fit the model\n",
    "model.fit(X, y)\n",
    "# get importance\n",
    "importance = model.feature_importances_\n",
    "# summarize feature importance\n",
    "for i,v in enumerate(importance):\n",
    "    print('Feature: %0d, %s Score: %.5f' % (i,df.columns[i], v))\n",
    "    \n",
    "print(df.columns[np.argsort(-importance)])\n",
    "\n",
    "# plot feature importance\n",
    "pyplot.bar([x for x in range(len(importance))], importance)\n",
    "pyplot.show()"
   ]
  },
  {
   "cell_type": "code",
   "execution_count": 7,
   "id": "a38bd43f",
   "metadata": {},
   "outputs": [],
   "source": [
    "cols = df.columns"
   ]
  },
  {
   "cell_type": "code",
   "execution_count": 8,
   "id": "5be083be",
   "metadata": {},
   "outputs": [],
   "source": [
    "df = df[[\"gap1\", \"gap2\", \"gap3\", \"positive\"]]"
   ]
  },
  {
   "cell_type": "code",
   "execution_count": 9,
   "id": "b274263a",
   "metadata": {},
   "outputs": [],
   "source": [
    "inputs_to_model = tf.keras.layers.Input([df.shape[1]-1], name=\"myInput\")   \n",
    "\n",
    "layer1 = tf.keras.layers.Dense(units=256, activation=\"relu\", name=\"myLayer1\")(inputs_to_model)\n",
    "\n",
    "layer2 = tf.keras.layers.Dense(units=100, activation=\"relu\", name=\"yourLayer2\")(layer1)\n",
    "\n",
    "\n",
    "outputs_to_model = tf.keras.layers.Dense(units=1, activation=\"sigmoid\", name=\"myPrediction\")(layer2)"
   ]
  },
  {
   "cell_type": "code",
   "execution_count": 10,
   "id": "04c8d19a",
   "metadata": {},
   "outputs": [
    {
     "name": "stdout",
     "output_type": "stream",
     "text": [
      "Model: \"model\"\n",
      "_________________________________________________________________\n",
      "Layer (type)                 Output Shape              Param #   \n",
      "=================================================================\n",
      "myInput (InputLayer)         [(None, 3)]               0         \n",
      "_________________________________________________________________\n",
      "myLayer1 (Dense)             (None, 256)               1024      \n",
      "_________________________________________________________________\n",
      "yourLayer2 (Dense)           (None, 100)               25700     \n",
      "_________________________________________________________________\n",
      "myPrediction (Dense)         (None, 1)                 101       \n",
      "=================================================================\n",
      "Total params: 26,825\n",
      "Trainable params: 26,825\n",
      "Non-trainable params: 0\n",
      "_________________________________________________________________\n"
     ]
    }
   ],
   "source": [
    "model = tf.keras.models.Model(inputs=[inputs_to_model], outputs=[outputs_to_model])\n",
    "\n",
    "model.summary()  # Ask Keras to print the model summary"
   ]
  },
  {
   "cell_type": "code",
   "execution_count": 11,
   "id": "d3a357bb",
   "metadata": {},
   "outputs": [],
   "source": [
    "metrics = [\n",
    "#       tf.keras.metrics.TruePositives(name='tp'),\n",
    "#       tf.keras.metrics.FalsePositives(name='fp'),\n",
    "#       tf.keras.metrics.TrueNegatives(name='tn'),\n",
    "#       tf.keras.metrics.FalseNegatives(name='fn'), \n",
    "      tf.keras.metrics.BinaryAccuracy(name='accuracy'),\n",
    "      tf.keras.metrics.Precision(name='precision'),\n",
    "      tf.keras.metrics.Recall(name='recall'),\n",
    "      tf.keras.metrics.AUC(name='auc'),\n",
    "#       tf.keras.metrics.AUC(name='prc', curve='PR'), # precision-recall curve\n",
    "]"
   ]
  },
  {
   "cell_type": "code",
   "execution_count": 12,
   "id": "c5af4081",
   "metadata": {},
   "outputs": [],
   "source": [
    "model.compile(loss=\"binary_crossentropy\", optimizer=\"adam\", metrics=metrics)"
   ]
  },
  {
   "cell_type": "code",
   "execution_count": 13,
   "id": "b1f35367",
   "metadata": {},
   "outputs": [],
   "source": [
    "train = df.sample(frac=0.8,random_state=816) #random state is a seed value\n",
    "test = df.drop(train.index)"
   ]
  },
  {
   "cell_type": "code",
   "execution_count": 14,
   "id": "c4553e5c",
   "metadata": {},
   "outputs": [],
   "source": [
    "y_train = train[\"positive\"]\n",
    "x_train = train.iloc[:, :-1]\n",
    "\n",
    "y_test = test[\"positive\"]\n",
    "x_test = test.iloc[:, :-1]\n"
   ]
  },
  {
   "cell_type": "code",
   "execution_count": 15,
   "id": "b0107b07",
   "metadata": {},
   "outputs": [],
   "source": [
    "logdir = os.path.join(\"logs\", datetime.datetime.now().strftime(\"%Y%m%d-%H%M%S\"))\n",
    "tensorboard_callback = tf.keras.callbacks.TensorBoard(logdir, histogram_freq=1)"
   ]
  },
  {
   "cell_type": "code",
   "execution_count": 16,
   "id": "9ae5412a",
   "metadata": {},
   "outputs": [
    {
     "data": {
      "text/plain": [
       "Reusing TensorBoard on port 6006 (pid 2414), started 11 days, 0:07:57 ago. (Use '!kill 2414' to kill it.)"
      ]
     },
     "metadata": {},
     "output_type": "display_data"
    },
    {
     "data": {
      "text/html": [
       "\n",
       "      <iframe id=\"tensorboard-frame-d9f420809d05f8b8\" width=\"100%\" height=\"800\" frameborder=\"0\">\n",
       "      </iframe>\n",
       "      <script>\n",
       "        (function() {\n",
       "          const frame = document.getElementById(\"tensorboard-frame-d9f420809d05f8b8\");\n",
       "          const url = new URL(\"/\", window.location);\n",
       "          const port = 6006;\n",
       "          if (port) {\n",
       "            url.port = port;\n",
       "          }\n",
       "          frame.src = url;\n",
       "        })();\n",
       "      </script>\n",
       "    "
      ],
      "text/plain": [
       "<IPython.core.display.HTML object>"
      ]
     },
     "metadata": {},
     "output_type": "display_data"
    }
   ],
   "source": [
    "%tensorboard --logdir logs"
   ]
  },
  {
   "cell_type": "code",
   "execution_count": 17,
   "id": "3e54f3e3",
   "metadata": {
    "scrolled": true
   },
   "outputs": [
    {
     "name": "stdout",
     "output_type": "stream",
     "text": [
      "Epoch 1/30\n",
      "923/923 [==============================] - 8s 7ms/step - loss: 0.3719 - accuracy: 0.8516 - precision: 0.9072 - recall: 0.7809 - auc: 0.9437 - val_loss: 0.1557 - val_accuracy: 0.9515 - val_precision: 0.9210 - val_recall: 0.9875 - val_auc: 0.9822\n",
      "Epoch 2/30\n",
      "923/923 [==============================] - 8s 9ms/step - loss: 0.1635 - accuracy: 0.9445 - precision: 0.9300 - recall: 0.9608 - auc: 0.9775 - val_loss: 0.1580 - val_accuracy: 0.9550 - val_precision: 0.9457 - val_recall: 0.9652 - val_auc: 0.9823\n",
      "Epoch 3/30\n",
      "923/923 [==============================] - 17s 19ms/step - loss: 0.1552 - accuracy: 0.9517 - precision: 0.9366 - recall: 0.9691 - auc: 0.9789 - val_loss: 0.1345 - val_accuracy: 0.9580 - val_precision: 0.9409 - val_recall: 0.9772 - val_auc: 0.9842\n",
      "Epoch 4/30\n",
      "923/923 [==============================] - 9s 10ms/step - loss: 0.1487 - accuracy: 0.9512 - precision: 0.9345 - recall: 0.9688 - auc: 0.9803 - val_loss: 0.1229 - val_accuracy: 0.9623 - val_precision: 0.9391 - val_recall: 0.9886 - val_auc: 0.9853\n",
      "Epoch 5/30\n",
      "923/923 [==============================] - 16s 17ms/step - loss: 0.1310 - accuracy: 0.9596 - precision: 0.9412 - recall: 0.9806 - auc: 0.9820 - val_loss: 0.2951 - val_accuracy: 0.9198 - val_precision: 0.9645 - val_recall: 0.8713 - val_auc: 0.9760\n",
      "Epoch 6/30\n",
      "923/923 [==============================] - 10s 10ms/step - loss: 0.1490 - accuracy: 0.9533 - precision: 0.9370 - recall: 0.9724 - auc: 0.9786 - val_loss: 0.1167 - val_accuracy: 0.9661 - val_precision: 0.9455 - val_recall: 0.9891 - val_auc: 0.9867\n",
      "Epoch 7/30\n",
      "923/923 [==============================] - 7s 8ms/step - loss: 0.1251 - accuracy: 0.9602 - precision: 0.9446 - recall: 0.9773 - auc: 0.9836 - val_loss: 0.1178 - val_accuracy: 0.9650 - val_precision: 0.9408 - val_recall: 0.9924 - val_auc: 0.9873\n",
      "Epoch 8/30\n",
      "923/923 [==============================] - 11s 12ms/step - loss: 0.1219 - accuracy: 0.9637 - precision: 0.9462 - recall: 0.9843 - auc: 0.9840 - val_loss: 0.1173 - val_accuracy: 0.9713 - val_precision: 0.9583 - val_recall: 0.9853 - val_auc: 0.9871\n",
      "Epoch 9/30\n",
      "923/923 [==============================] - 10s 11ms/step - loss: 0.1097 - accuracy: 0.9658 - precision: 0.9507 - recall: 0.9831 - auc: 0.9849 - val_loss: 0.1159 - val_accuracy: 0.9683 - val_precision: 0.9590 - val_recall: 0.9783 - val_auc: 0.9875\n",
      "Epoch 10/30\n",
      "923/923 [==============================] - 6s 6ms/step - loss: 0.1172 - accuracy: 0.9677 - precision: 0.9526 - recall: 0.9849 - auc: 0.9840 - val_loss: 0.1073 - val_accuracy: 0.9713 - val_precision: 0.9656 - val_recall: 0.9772 - val_auc: 0.9884\n",
      "Epoch 11/30\n",
      "923/923 [==============================] - 13s 15ms/step - loss: 0.1029 - accuracy: 0.9678 - precision: 0.9537 - recall: 0.9833 - auc: 0.9883 - val_loss: 0.1075 - val_accuracy: 0.9683 - val_precision: 0.9605 - val_recall: 0.9766 - val_auc: 0.9886\n",
      "Epoch 12/30\n",
      "923/923 [==============================] - 20s 22ms/step - loss: 0.1049 - accuracy: 0.9681 - precision: 0.9546 - recall: 0.9833 - auc: 0.9865 - val_loss: 0.0956 - val_accuracy: 0.9743 - val_precision: 0.9629 - val_recall: 0.9864 - val_auc: 0.9896\n",
      "Epoch 13/30\n",
      "923/923 [==============================] - 11s 12ms/step - loss: 0.1034 - accuracy: 0.9696 - precision: 0.9559 - recall: 0.9851 - auc: 0.9866 - val_loss: 0.1218 - val_accuracy: 0.9637 - val_precision: 0.9682 - val_recall: 0.9587 - val_auc: 0.9878\n",
      "Epoch 14/30\n",
      "923/923 [==============================] - 13s 14ms/step - loss: 0.1081 - accuracy: 0.9669 - precision: 0.9524 - recall: 0.9826 - auc: 0.9864 - val_loss: 0.0967 - val_accuracy: 0.9745 - val_precision: 0.9654 - val_recall: 0.9842 - val_auc: 0.9896\n",
      "Epoch 15/30\n",
      "923/923 [==============================] - 16s 17ms/step - loss: 0.0963 - accuracy: 0.9722 - precision: 0.9615 - recall: 0.9843 - auc: 0.9888 - val_loss: 0.0905 - val_accuracy: 0.9743 - val_precision: 0.9590 - val_recall: 0.9908 - val_auc: 0.9910\n",
      "Epoch 16/30\n",
      "923/923 [==============================] - 11s 12ms/step - loss: 0.1143 - accuracy: 0.9699 - precision: 0.9535 - recall: 0.9880 - auc: 0.9842 - val_loss: 0.0920 - val_accuracy: 0.9737 - val_precision: 0.9575 - val_recall: 0.9913 - val_auc: 0.9912\n",
      "Epoch 17/30\n",
      "923/923 [==============================] - 7s 7ms/step - loss: 0.1020 - accuracy: 0.9709 - precision: 0.9560 - recall: 0.9876 - auc: 0.9860 - val_loss: 0.1005 - val_accuracy: 0.9691 - val_precision: 0.9615 - val_recall: 0.9772 - val_auc: 0.9894\n",
      "Epoch 18/30\n",
      "923/923 [==============================] - 8s 9ms/step - loss: 0.0993 - accuracy: 0.9711 - precision: 0.9570 - recall: 0.9857 - auc: 0.9870 - val_loss: 0.1052 - val_accuracy: 0.9699 - val_precision: 0.9716 - val_recall: 0.9680 - val_auc: 0.9897\n",
      "Epoch 19/30\n",
      "923/923 [==============================] - 8s 8ms/step - loss: 0.0999 - accuracy: 0.9708 - precision: 0.9566 - recall: 0.9866 - auc: 0.9872 - val_loss: 0.0894 - val_accuracy: 0.9748 - val_precision: 0.9595 - val_recall: 0.9913 - val_auc: 0.9907\n",
      "Epoch 20/30\n",
      "923/923 [==============================] - 12s 13ms/step - loss: 0.0980 - accuracy: 0.9707 - precision: 0.9558 - recall: 0.9873 - auc: 0.9881 - val_loss: 0.1181 - val_accuracy: 0.9713 - val_precision: 0.9559 - val_recall: 0.9880 - val_auc: 0.9868\n",
      "Epoch 21/30\n",
      "923/923 [==============================] - 6s 6ms/step - loss: 0.0942 - accuracy: 0.9725 - precision: 0.9587 - recall: 0.9884 - auc: 0.9881 - val_loss: 0.0863 - val_accuracy: 0.9740 - val_precision: 0.9643 - val_recall: 0.9842 - val_auc: 0.9911\n",
      "Epoch 22/30\n",
      "923/923 [==============================] - 6s 7ms/step - loss: 0.0914 - accuracy: 0.9730 - precision: 0.9592 - recall: 0.9882 - auc: 0.9895 - val_loss: 0.0934 - val_accuracy: 0.9756 - val_precision: 0.9664 - val_recall: 0.9853 - val_auc: 0.9906\n",
      "Epoch 23/30\n",
      "923/923 [==============================] - 7s 8ms/step - loss: 0.0954 - accuracy: 0.9726 - precision: 0.9578 - recall: 0.9890 - auc: 0.9881 - val_loss: 0.0899 - val_accuracy: 0.9743 - val_precision: 0.9609 - val_recall: 0.9886 - val_auc: 0.9909\n",
      "Epoch 24/30\n",
      "923/923 [==============================] - 13s 14ms/step - loss: 0.0953 - accuracy: 0.9731 - precision: 0.9583 - recall: 0.9892 - auc: 0.9887 - val_loss: 0.0914 - val_accuracy: 0.9753 - val_precision: 0.9679 - val_recall: 0.9832 - val_auc: 0.9902\n",
      "Epoch 25/30\n",
      "923/923 [==============================] - 6s 6ms/step - loss: 0.0892 - accuracy: 0.9741 - precision: 0.9610 - recall: 0.9883 - auc: 0.9892 - val_loss: 0.0895 - val_accuracy: 0.9780 - val_precision: 0.9686 - val_recall: 0.9880 - val_auc: 0.9904\n",
      "Epoch 26/30\n",
      "923/923 [==============================] - 11s 12ms/step - loss: 0.0927 - accuracy: 0.9735 - precision: 0.9600 - recall: 0.9890 - auc: 0.9893 - val_loss: 0.0904 - val_accuracy: 0.9775 - val_precision: 0.9656 - val_recall: 0.9902 - val_auc: 0.9916\n",
      "Epoch 27/30\n",
      "923/923 [==============================] - 16s 17ms/step - loss: 0.0959 - accuracy: 0.9715 - precision: 0.9575 - recall: 0.9868 - auc: 0.9886 - val_loss: 0.0855 - val_accuracy: 0.9756 - val_precision: 0.9659 - val_recall: 0.9859 - val_auc: 0.9908\n",
      "Epoch 28/30\n",
      "923/923 [==============================] - 10s 11ms/step - loss: 0.0873 - accuracy: 0.9744 - precision: 0.9600 - recall: 0.9901 - auc: 0.9900 - val_loss: 0.0858 - val_accuracy: 0.9762 - val_precision: 0.9616 - val_recall: 0.9919 - val_auc: 0.9919\n",
      "Epoch 29/30\n",
      "923/923 [==============================] - 9s 10ms/step - loss: 0.0843 - accuracy: 0.9745 - precision: 0.9612 - recall: 0.9892 - auc: 0.9911 - val_loss: 0.0839 - val_accuracy: 0.9762 - val_precision: 0.9655 - val_recall: 0.9875 - val_auc: 0.9915\n",
      "Epoch 30/30\n",
      "923/923 [==============================] - 17s 18ms/step - loss: 0.0933 - accuracy: 0.9733 - precision: 0.9578 - recall: 0.9903 - auc: 0.9892 - val_loss: 0.0822 - val_accuracy: 0.9764 - val_precision: 0.9606 - val_recall: 0.9935 - val_auc: 0.9919\n"
     ]
    },
    {
     "data": {
      "text/plain": [
       "<tensorflow.python.keras.callbacks.History at 0x7f13f1d58b80>"
      ]
     },
     "execution_count": 17,
     "metadata": {},
     "output_type": "execute_result"
    }
   ],
   "source": [
    "number_of_epochs = 30\n",
    "model.fit(x_train, y_train, epochs=number_of_epochs, batch_size=16, \n",
    "          verbose=1, validation_data=(x_test, y_test), \n",
    "          callbacks=[tensorboard_callback])"
   ]
  },
  {
   "cell_type": "code",
   "execution_count": null,
   "id": "9a588b1d",
   "metadata": {},
   "outputs": [],
   "source": []
  }
 ],
 "metadata": {
  "kernelspec": {
   "display_name": "Python 3",
   "language": "python",
   "name": "python3"
  },
  "language_info": {
   "codemirror_mode": {
    "name": "ipython",
    "version": 3
   },
   "file_extension": ".py",
   "mimetype": "text/x-python",
   "name": "python",
   "nbconvert_exporter": "python",
   "pygments_lexer": "ipython3",
   "version": "3.9.6"
  }
 },
 "nbformat": 4,
 "nbformat_minor": 5
}
