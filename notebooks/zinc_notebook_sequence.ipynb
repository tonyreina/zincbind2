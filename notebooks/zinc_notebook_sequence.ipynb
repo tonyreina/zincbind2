{
 "cells": [
  {
   "cell_type": "markdown",
   "id": "08b96e4d",
   "metadata": {},
   "source": [
    "https://github.com/samirelanduk/ZincBindPredict"
   ]
  },
  {
   "cell_type": "code",
   "execution_count": 1,
   "id": "82540a27",
   "metadata": {},
   "outputs": [],
   "source": [
    "import tensorflow as tf\n",
    "import pandas as pd\n",
    "\n",
    "import datetime\n",
    "import os\n",
    "\n",
    "import numpy as np\n",
    "\n",
    "import glob\n",
    "\n",
    "# Load the TensorBoard notebook extension\n",
    "%load_ext tensorboard"
   ]
  },
  {
   "cell_type": "code",
   "execution_count": 3,
   "id": "5601b850",
   "metadata": {},
   "outputs": [],
   "source": [
    "#import utilities\n",
    "\n",
    "#utilities.get_all_pdb_codes()"
   ]
  },
  {
   "cell_type": "code",
   "execution_count": 4,
   "id": "1ba1f889",
   "metadata": {},
   "outputs": [],
   "source": [
    "from sklearn.datasets import make_classification\n",
    "from sklearn.tree import DecisionTreeClassifier\n",
    "from matplotlib import pyplot\n",
    "\n",
    "%matplotlib inline"
   ]
  },
  {
   "cell_type": "code",
   "execution_count": 6,
   "id": "3bd0b35c",
   "metadata": {},
   "outputs": [
    {
     "name": "stdout",
     "output_type": "stream",
     "text": [
      "Appending ../data/csv/sequence/H3.csv\n",
      "Appending ../data/csv/sequence/C2H2.csv\n",
      "Appending ../data/csv/sequence/C3H1.csv\n",
      "Appending ../data/csv/sequence/E1H1.csv\n",
      "Appending ../data/csv/sequence/C2H1.csv\n",
      "Appending ../data/csv/sequence/D1H1.csv\n",
      "Appending ../data/csv/sequence/E1H2.csv\n",
      "Appending ../data/csv/sequence/D1H2.csv\n",
      "Appending ../data/csv/sequence/C3.csv\n"
     ]
    }
   ],
   "source": [
    "files = glob.glob(\"../data/csv/sequence/*.csv\")\n",
    "\n",
    "df = pd.read_csv(files[0])\n",
    "\n",
    "for file in files[1:]:\n",
    "\n",
    "    print(f\"Appending {file}\")\n",
    "    df.append(pd.read_csv(file))"
   ]
  },
  {
   "cell_type": "code",
   "execution_count": 7,
   "id": "f2b2c42c",
   "metadata": {},
   "outputs": [],
   "source": [
    "y = df[\"positive\"]\n",
    "X = df.drop([\"positive\"], axis=1)"
   ]
  },
  {
   "cell_type": "code",
   "execution_count": 8,
   "id": "70249c87",
   "metadata": {},
   "outputs": [
    {
     "name": "stdout",
     "output_type": "stream",
     "text": [
      "Feature: 0, gap1 Score: 0.13801\n",
      "Feature: 1, hydrophobicity1 Score: 0.00677\n",
      "Feature: 2, gap2 Score: 0.05451\n",
      "Feature: 3, hydrophobicity2 Score: 0.01038\n",
      "Feature: 4, gap3 Score: 0.69563\n",
      "Feature: 5, hydrophobicity3 Score: 0.00299\n",
      "Feature: 6, hydrophobicity_window_1 Score: 0.01043\n",
      "Feature: 7, hydrophobicity_window_3 Score: 0.00247\n",
      "Feature: 8, hydrophobicity_window_5 Score: 0.00251\n",
      "Feature: 9, charged_window_1 Score: 0.00174\n",
      "Feature: 10, charged_window_3 Score: 0.00136\n",
      "Feature: 11, charged_window_5 Score: 0.00153\n",
      "Feature: 12, A_window_1 Score: 0.00038\n",
      "Feature: 13, A_window_3 Score: 0.00064\n",
      "Feature: 14, A_window_5 Score: 0.00227\n",
      "Feature: 15, R_window_1 Score: 0.00162\n",
      "Feature: 16, R_window_3 Score: 0.00139\n",
      "Feature: 17, R_window_5 Score: 0.00319\n",
      "Feature: 18, N_window_1 Score: 0.00053\n",
      "Feature: 19, N_window_3 Score: 0.00067\n",
      "Feature: 20, N_window_5 Score: 0.00194\n",
      "Feature: 21, D_window_1 Score: 0.00020\n",
      "Feature: 22, D_window_3 Score: 0.00032\n",
      "Feature: 23, D_window_5 Score: 0.00018\n",
      "Feature: 24, C_window_1 Score: 0.00000\n",
      "Feature: 25, C_window_3 Score: 0.00731\n",
      "Feature: 26, C_window_5 Score: 0.00446\n",
      "Feature: 27, E_window_1 Score: 0.00062\n",
      "Feature: 28, E_window_3 Score: 0.00028\n",
      "Feature: 29, E_window_5 Score: 0.00245\n",
      "Feature: 30, Q_window_1 Score: 0.00042\n",
      "Feature: 31, Q_window_3 Score: 0.00136\n",
      "Feature: 32, Q_window_5 Score: 0.00119\n",
      "Feature: 33, G_window_1 Score: 0.00089\n",
      "Feature: 34, G_window_3 Score: 0.00407\n",
      "Feature: 35, G_window_5 Score: 0.00116\n",
      "Feature: 36, H_window_1 Score: 0.00021\n",
      "Feature: 37, H_window_3 Score: 0.00173\n",
      "Feature: 38, H_window_5 Score: 0.00142\n",
      "Feature: 39, I_window_1 Score: 0.00011\n",
      "Feature: 40, I_window_3 Score: 0.00311\n",
      "Feature: 41, I_window_5 Score: 0.00358\n",
      "Feature: 42, L_window_1 Score: 0.00073\n",
      "Feature: 43, L_window_3 Score: 0.00066\n",
      "Feature: 44, L_window_5 Score: 0.00105\n",
      "Feature: 45, K_window_1 Score: 0.00096\n",
      "Feature: 46, K_window_3 Score: 0.00022\n",
      "Feature: 47, K_window_5 Score: 0.00244\n",
      "Feature: 48, M_window_1 Score: 0.00149\n",
      "Feature: 49, M_window_3 Score: 0.00000\n",
      "Feature: 50, M_window_5 Score: 0.00136\n",
      "Feature: 51, F_window_1 Score: 0.00022\n",
      "Feature: 52, F_window_3 Score: 0.00020\n",
      "Feature: 53, F_window_5 Score: 0.00010\n",
      "Feature: 54, P_window_1 Score: 0.00153\n",
      "Feature: 55, P_window_3 Score: 0.00027\n",
      "Feature: 56, P_window_5 Score: 0.00040\n",
      "Feature: 57, S_window_1 Score: 0.00082\n",
      "Feature: 58, S_window_3 Score: 0.00104\n",
      "Feature: 59, S_window_5 Score: 0.00021\n",
      "Feature: 60, T_window_1 Score: 0.00023\n",
      "Feature: 61, T_window_3 Score: 0.00130\n",
      "Feature: 62, T_window_5 Score: 0.00103\n",
      "Feature: 63, W_window_1 Score: 0.00029\n",
      "Feature: 64, W_window_3 Score: 0.00382\n",
      "Feature: 65, W_window_5 Score: 0.00017\n",
      "Feature: 66, Y_window_1 Score: 0.00057\n",
      "Feature: 67, Y_window_3 Score: 0.00040\n",
      "Feature: 68, Y_window_5 Score: 0.00021\n",
      "Feature: 69, V_window_1 Score: 0.00079\n",
      "Feature: 70, V_window_3 Score: 0.00133\n",
      "Feature: 71, V_window_5 Score: 0.00017\n",
      "Index(['gap3', 'gap1', 'gap2', 'hydrophobicity_window_1', 'hydrophobicity2',\n",
      "       'C_window_3', 'hydrophobicity1', 'C_window_5', 'G_window_3',\n",
      "       'W_window_3', 'I_window_5', 'R_window_5', 'I_window_3',\n",
      "       'hydrophobicity3', 'hydrophobicity_window_5', 'hydrophobicity_window_3',\n",
      "       'E_window_5', 'K_window_5', 'A_window_5', 'N_window_5',\n",
      "       'charged_window_1', 'H_window_3', 'R_window_1', 'P_window_1',\n",
      "       'charged_window_5', 'M_window_1', 'H_window_5', 'R_window_3',\n",
      "       'charged_window_3', 'M_window_5', 'Q_window_3', 'V_window_3',\n",
      "       'T_window_3', 'Q_window_5', 'G_window_5', 'L_window_5', 'S_window_3',\n",
      "       'T_window_5', 'K_window_1', 'G_window_1', 'S_window_1', 'V_window_1',\n",
      "       'L_window_1', 'N_window_3', 'L_window_3', 'A_window_3', 'E_window_1',\n",
      "       'Y_window_1', 'N_window_1', 'Q_window_1', 'Y_window_3', 'P_window_5',\n",
      "       'A_window_1', 'D_window_3', 'W_window_1', 'E_window_3', 'P_window_3',\n",
      "       'T_window_1', 'K_window_3', 'F_window_1', 'H_window_1', 'S_window_5',\n",
      "       'Y_window_5', 'F_window_3', 'D_window_1', 'D_window_5', 'W_window_5',\n",
      "       'V_window_5', 'I_window_1', 'F_window_5', 'C_window_1', 'M_window_3'],\n",
      "      dtype='object')\n"
     ]
    },
    {
     "data": {
      "image/png": "[encoded data removed]",
      "text/plain": [
       "<Figure size 432x288 with 1 Axes>"
      ]
     },
     "metadata": {
      "needs_background": "light"
     },
     "output_type": "display_data"
    }
   ],
   "source": [
    "model = DecisionTreeClassifier()\n",
    "# fit the model\n",
    "model.fit(X, y)\n",
    "# get importance\n",
    "importance = model.feature_importances_\n",
    "# summarize feature importance\n",
    "for i,v in enumerate(importance):\n",
    "    print('Feature: %0d, %s Score: %.5f' % (i,df.columns[i], v))\n",
    "    \n",
    "print(df.columns[np.argsort(-importance)])\n",
    "\n",
    "# plot feature importance\n",
    "pyplot.bar([x for x in range(len(importance))], importance)\n",
    "pyplot.show()"
   ]
  },
  {
   "cell_type": "code",
   "execution_count": 9,
   "id": "a38bd43f",
   "metadata": {},
   "outputs": [],
   "source": [
    "cols = df.columns"
   ]
  },
  {
   "cell_type": "code",
   "execution_count": 10,
   "id": "5be083be",
   "metadata": {},
   "outputs": [],
   "source": [
    "df = df[[\"gap1\", \"gap2\", \"gap3\", \"positive\"]]"
   ]
  },
  {
   "cell_type": "code",
   "execution_count": 11,
   "id": "b274263a",
   "metadata": {},
   "outputs": [],
   "source": [
    "inputs_to_model = tf.keras.layers.Input([df.shape[1]-1], name=\"myInput\")   \n",
    "\n",
    "layer1 = tf.keras.layers.Dense(units=256, activation=\"relu\", name=\"myLayer1\")(inputs_to_model)\n",
    "\n",
    "layer2 = tf.keras.layers.Dense(units=100, activation=\"relu\", name=\"yourLayer2\")(layer1)\n",
    "\n",
    "\n",
    "outputs_to_model = tf.keras.layers.Dense(units=1, activation=\"sigmoid\", name=\"myPrediction\")(layer2)"
   ]
  },
  {
   "cell_type": "code",
   "execution_count": 12,
   "id": "04c8d19a",
   "metadata": {},
   "outputs": [
    {
     "name": "stdout",
     "output_type": "stream",
     "text": [
      "Model: \"model\"\n",
      "_________________________________________________________________\n",
      "Layer (type)                 Output Shape              Param #   \n",
      "=================================================================\n",
      "myInput (InputLayer)         [(None, 3)]               0         \n",
      "_________________________________________________________________\n",
      "myLayer1 (Dense)             (None, 256)               1024      \n",
      "_________________________________________________________________\n",
      "yourLayer2 (Dense)           (None, 100)               25700     \n",
      "_________________________________________________________________\n",
      "myPrediction (Dense)         (None, 1)                 101       \n",
      "=================================================================\n",
      "Total params: 26,825\n",
      "Trainable params: 26,825\n",
      "Non-trainable params: 0\n",
      "_________________________________________________________________\n"
     ]
    }
   ],
   "source": [
    "model = tf.keras.models.Model(inputs=[inputs_to_model], outputs=[outputs_to_model])\n",
    "\n",
    "model.summary()  # Ask Keras to print the model summary"
   ]
  },
  {
   "cell_type": "code",
   "execution_count": 13,
   "id": "d3a357bb",
   "metadata": {},
   "outputs": [],
   "source": [
    "metrics = [\n",
    "#       tf.keras.metrics.TruePositives(name='tp'),\n",
    "#       tf.keras.metrics.FalsePositives(name='fp'),\n",
    "#       tf.keras.metrics.TrueNegatives(name='tn'),\n",
    "#       tf.keras.metrics.FalseNegatives(name='fn'), \n",
    "      tf.keras.metrics.BinaryAccuracy(name='accuracy'),\n",
    "      tf.keras.metrics.Precision(name='precision'),\n",
    "      tf.keras.metrics.Recall(name='recall'),\n",
    "      tf.keras.metrics.AUC(name='auc'),\n",
    "#       tf.keras.metrics.AUC(name='prc', curve='PR'), # precision-recall curve\n",
    "]"
   ]
  },
  {
   "cell_type": "code",
   "execution_count": 14,
   "id": "c5af4081",
   "metadata": {},
   "outputs": [],
   "source": [
    "model.compile(loss=\"binary_crossentropy\", optimizer=\"adam\", metrics=metrics)"
   ]
  },
  {
   "cell_type": "code",
   "execution_count": 15,
   "id": "b1f35367",
   "metadata": {},
   "outputs": [],
   "source": [
    "train = df.sample(frac=0.8,random_state=816) #random state is a seed value\n",
    "test = df.drop(train.index)"
   ]
  },
  {
   "cell_type": "code",
   "execution_count": 16,
   "id": "c4553e5c",
   "metadata": {},
   "outputs": [],
   "source": [
    "y_train = train[\"positive\"]\n",
    "x_train = train.iloc[:, :-1]\n",
    "\n",
    "y_test = test[\"positive\"]\n",
    "x_test = test.iloc[:, :-1]\n"
   ]
  },
  {
   "cell_type": "code",
   "execution_count": 17,
   "id": "b0107b07",
   "metadata": {},
   "outputs": [],
   "source": [
    "logdir = os.path.join(\"logs\", datetime.datetime.now().strftime(\"%Y%m%d-%H%M%S\"))\n",
    "tensorboard_callback = tf.keras.callbacks.TensorBoard(logdir, histogram_freq=1)"
   ]
  },
  {
   "cell_type": "code",
   "execution_count": 18,
   "id": "9ae5412a",
   "metadata": {},
   "outputs": [
    {
     "data": {
      "text/html": [
       "\n",
       "      <iframe id=\"tensorboard-frame-d2e4fb1f9696e5c4\" width=\"100%\" height=\"800\" frameborder=\"0\">\n",
       "      </iframe>\n",
       "      <script>\n",
       "        (function() {\n",
       "          const frame = document.getElementById(\"tensorboard-frame-d2e4fb1f9696e5c4\");\n",
       "          const url = new URL(\"/\", window.location);\n",
       "          const port = 6006;\n",
       "          if (port) {\n",
       "            url.port = port;\n",
       "          }\n",
       "          frame.src = url;\n",
       "        })();\n",
       "      </script>\n",
       "    "
      ],
      "text/plain": [
       "<IPython.core.display.HTML object>"
      ]
     },
     "metadata": {},
     "output_type": "display_data"
    }
   ],
   "source": [
    "%tensorboard --logdir logs"
   ]
  },
  {
   "cell_type": "code",
   "execution_count": null,
   "id": "3e54f3e3",
   "metadata": {
    "scrolled": true
   },
   "outputs": [
    {
     "name": "stdout",
     "output_type": "stream",
     "text": [
      "Epoch 1/30\n",
      "947/947 [==============================] - 7s 6ms/step - loss: 0.4425 - accuracy: 0.8391 - precision: 0.9028 - recall: 0.7467 - auc: 0.9410 - val_loss: 0.1699 - val_accuracy: 0.9326 - val_precision: 0.9284 - val_recall: 0.9358 - val_auc: 0.9795\n",
      "Epoch 2/30\n",
      "947/947 [==============================] - 11s 12ms/step - loss: 0.1777 - accuracy: 0.9456 - precision: 0.9304 - recall: 0.9638 - auc: 0.9757 - val_loss: 0.2000 - val_accuracy: 0.9390 - val_precision: 0.8961 - val_recall: 0.9914 - val_auc: 0.9704\n",
      "Epoch 3/30\n",
      "947/947 [==============================] - 8s 8ms/step - loss: 0.1532 - accuracy: 0.9520 - precision: 0.9317 - recall: 0.9760 - auc: 0.9789 - val_loss: 0.1359 - val_accuracy: 0.9593 - val_precision: 0.9364 - val_recall: 0.9845 - val_auc: 0.9831\n",
      "Epoch 4/30\n",
      "947/947 [==============================] - 11s 12ms/step - loss: 0.1329 - accuracy: 0.9581 - precision: 0.9382 - recall: 0.9818 - auc: 0.9808 - val_loss: 0.1631 - val_accuracy: 0.9559 - val_precision: 0.9442 - val_recall: 0.9679 - val_auc: 0.9811\n",
      "Epoch 5/30\n",
      "283/947 [=======>......................] - ETA: 2s - loss: 0.1488 - accuracy: 0.9540 - precision: 0.9311 - recall: 0.9790 - auc: 0.9765"
     ]
    }
   ],
   "source": [
    "number_of_epochs = 30\n",
    "model.fit(x_train, y_train, epochs=number_of_epochs, batch_size=16, \n",
    "          verbose=1, validation_data=(x_test, y_test), \n",
    "          callbacks=[tensorboard_callback])"
   ]
  },
  {
   "cell_type": "code",
   "execution_count": null,
   "id": "9a588b1d",
   "metadata": {},
   "outputs": [],
   "source": []
  }
 ],
 "metadata": {
  "kernelspec": {
   "display_name": "Python 3",
   "language": "python",
   "name": "python3"
  },
  "language_info": {
   "codemirror_mode": {
    "name": "ipython",
    "version": 3
   },
   "file_extension": ".py",
   "mimetype": "text/x-python",
   "name": "python",
   "nbconvert_exporter": "python",
   "pygments_lexer": "ipython3",
   "version": "3.9.6"
  }
 },
 "nbformat": 4,
 "nbformat_minor": 5
}
